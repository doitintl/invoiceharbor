{
 "cells": [
  {
   "cell_type": "code",
   "source": [
    "from main import AwsInvoiceCredit\n",
    "from langchain.output_parsers import PydanticOutputParser\n",
    "\n",
    "parser = PydanticOutputParser(pydantic_object=AwsInvoiceCredit)\n",
    "print(parser.get_format_instructions())"
   ],
   "metadata": {
    "collapsed": false,
    "ExecuteTime": {
     "end_time": "2024-07-21T10:26:08.233451Z",
     "start_time": "2024-07-21T10:26:07.724684Z"
    }
   },
   "id": "52e33b4b35e437b2",
   "outputs": [
    {
     "name": "stdout",
     "output_type": "stream",
     "text": [
      "The output should be formatted as a JSON instance that conforms to the JSON schema below.\n",
      "\n",
      "As an example, for the schema {\"properties\": {\"foo\": {\"title\": \"Foo\", \"description\": \"a list of strings\", \"type\": \"array\", \"items\": {\"type\": \"string\"}}}, \"required\": [\"foo\"]}\n",
      "the object {\"foo\": [\"bar\", \"baz\"]} is a well-formatted instance of the schema. The object {\"properties\": {\"foo\": [\"bar\", \"baz\"]}} is not well-formatted.\n",
      "\n",
      "Here is the output schema:\n",
      "```\n",
      "{\"properties\": {\"file_name\": {\"description\": \"Name of the AWS invoice PDF file.\", \"title\": \"File Name\", \"type\": \"string\"}, \"doit_payer_id\": {\"description\": \"Doit Payer ID: Unique identifier for the payer in the DoiT system.\", \"title\": \"Doit Payer Id\", \"type\": \"string\"}, \"document_type\": {\"description\": \"Determine the document type based on content analysis. Classify as 'Invoice' if it primarily details charges, or 'Credit Note' if it contains references to 'Credit Memo', 'Credit Adjustment Note', 'Tax Invoice Adjustment', or similar terms. Additionally, consider the net total amount; classify as 'Credit Note' only if the net charges after credits/discounts are negative.\", \"title\": \"Document Type\", \"type\": \"string\"}, \"ri_invoice\": {\"anyOf\": [{\"type\": \"boolean\"}, {\"type\": \"null\"}], \"default\": null, \"description\": \"Indicates if the invoice is for a Reserved Instance (RI), identifiable by specific phrases next to service charges, such as '(one time fee)'. True for RI invoices, None otherwise or if not applicable.\", \"title\": \"Ri Invoice\"}, \"aws_account_number\": {\"description\": \"The AWS account number associated with the invoice.\", \"title\": \"Aws Account Number\", \"type\": \"string\"}, \"address_company\": {\"description\": \"The company name as it appears on the invoice's billing address. Typically the first line of the address before ATTN line.\", \"title\": \"Address Company\", \"type\": \"string\"}, \"address_attn\": {\"anyOf\": [{\"type\": \"string\"}, {\"type\": \"null\"}], \"description\": \"The attention line of the billing address, excluding the 'ATTN' prefix. Typically the second line of the address. Usually, it is the name of the person.\", \"title\": \"Address Attn\"}, \"address_country\": {\"description\": \"The country name in the billing address. Typically the last line of the address. Convert alpha-2 country codes to full country names. For example, US to United States.\", \"title\": \"Address Country\", \"type\": \"string\"}, \"tax_registration_number\": {\"anyOf\": [{\"type\": \"string\"}, {\"type\": \"null\"}], \"default\": null, \"description\": \" The tax registration number (e.g., ABN, GST Number, GST/HST Registration, Issued To) as listed on the invoice, excluding AWS's tax number. Typically the next number after AWS Account Number. Ignore if found after the billing period.\", \"title\": \"Tax Registration Number\"}, \"invoice_number\": {\"description\": \"The invoice number as provided in the invoice summary.\", \"title\": \"Invoice Number\", \"type\": \"string\"}, \"invoice_date\": {\"description\": \"The date the invoice was issued as provided in the invoice summary.\", \"title\": \"Invoice Date\", \"type\": \"string\"}, \"allocation_number\": {\"anyOf\": [{\"type\": \"string\"}, {\"type\": \"null\"}], \"default\": null, \"description\": \"The allocation number from the invoice summary, if present.\", \"title\": \"Allocation Number\"}, \"original_invoice_number\": {\"anyOf\": [{\"type\": \"string\"}, {\"type\": \"null\"}], \"default\": null, \"description\": \"For credit notes, the original invoice number related to the adjustment. For regular invoices it can be a replacement for invoice (typically found after billing period). Leave blank if not applicable.\", \"title\": \"Original Invoice Number\"}, \"original_invoice_date\": {\"anyOf\": [{\"type\": \"string\"}, {\"type\": \"null\"}], \"default\": null, \"description\": \"For credit notes, the date of the original invoice being adjusted. Leave blank if not applicable.\", \"title\": \"Original Invoice Date\"}, \"total_amount\": {\"description\": \"The total amount charged or credited on the invoice, without currency symbols. Reflects the net result of all charges and credits on the invoice. This should be 0 if charges are fully offset by credits, rather than summing up the individual credit amounts. Ensure to use negative values for credits.\", \"title\": \"Total Amount\", \"type\": \"number\"}, \"total_amount_currency\": {\"description\": \"The currency code for the total amount, as listed on the invoice.\", \"title\": \"Total Amount Currency\", \"type\": \"string\"}, \"total_vat_tax_amount\": {\"anyOf\": [{\"type\": \"number\"}, {\"type\": \"null\"}], \"default\": null, \"description\": \"The total VAT or tax amount, extracted from the section immediately following 'TOTAL VAT' or 'TOTAL Tax', without currency symbols. If the document shows a net zero VAT or tax charge, this field should be set to 0. Use negative values for credits. If exists, always before the billing period.\", \"title\": \"Total Vat Tax Amount\"}, \"total_vat_tax_currency\": {\"anyOf\": [{\"type\": \"string\"}, {\"type\": \"null\"}], \"default\": null, \"description\": \"The currency code for the total VAT or tax amount, determined from the section immediately following 'TOTAL VAT' or 'TOTAL Tax'.\", \"title\": \"Total Vat Tax Currency\"}, \"billing_period\": {\"description\": \"The billing period covered by the invoice. Typically formatted as two dates separated by a dash. Please, format both date according to the 'Month name Day, Year' format with no leading zeros fix if needed (ex. January 1, 2022 - January 31, 2022)\", \"title\": \"Billing Period\", \"type\": \"string\"}, \"net_charges_usd\": {\"anyOf\": [{\"type\": \"number\"}, {\"type\": \"null\"}], \"default\": null, \"description\": \"Net charges in USD after credits/discounts, excluding tax, without currency symbol. Use negative values for credits.\", \"title\": \"Net Charges Usd\"}, \"net_charges_non_usd\": {\"anyOf\": [{\"type\": \"number\"}, {\"type\": \"null\"}], \"default\": null, \"description\": \"Net charges in non-USD currency after credits/discounts, excluding tax, without currency symbol. Use negative values for credits.\", \"title\": \"Net Charges Non Usd\"}, \"net_charges_currency\": {\"anyOf\": [{\"type\": \"string\"}, {\"type\": \"null\"}], \"default\": null, \"description\": \"The currency code (replace symbol) for net charges in non-USD currency.\", \"title\": \"Net Charges Currency\"}, \"vat_percentage\": {\"anyOf\": [{\"type\": \"number\"}, {\"type\": \"null\"}], \"default\": null, \"description\": \"The VAT rate applied, extracted (from  VAT - <number>% or VAT in % or GST amount at % or HST Amount at % and similar) without the '%' sign from the invoice.\", \"title\": \"Vat Percentage\"}, \"exchange_rate\": {\"anyOf\": [{\"type\": \"number\"}, {\"type\": \"null\"}], \"default\": null, \"description\": \"The exchange rate applied, formatted as per the pattern '1 USD = X currency'.\", \"title\": \"Exchange Rate\"}, \"amazon_company_name\": {\"description\": \"The Amazon Web Services company name as listed on the invoice, which may vary by country.\", \"title\": \"Amazon Company Name\", \"type\": \"string\"}, \"amazon_company_branch\": {\"anyOf\": [{\"type\": \"string\"}, {\"type\": \"null\"}], \"default\": null, \"description\": \"The specific branch of Amazon Web Services, if mentioned, excluding full company name and address details. Typically after the 'Amazon Web Services EMEA SARL' but can be different for different countries.\", \"title\": \"Amazon Company Branch\"}}, \"required\": [\"file_name\", \"doit_payer_id\", \"document_type\", \"aws_account_number\", \"address_company\", \"address_attn\", \"address_country\", \"invoice_number\", \"invoice_date\", \"total_amount\", \"total_amount_currency\", \"billing_period\", \"amazon_company_name\"]}\n",
      "```\n"
     ]
    }
   ],
   "execution_count": 1
  },
  {
   "cell_type": "code",
   "source": [
    "import os\n",
    "from main import remove_footer\n",
    "from langchain_community.document_loaders import PyMuPDFLoader\n",
    "\n",
    "def read_invoice(invoice_document):\n",
    "    loader = PyMuPDFLoader(invoice_document)\n",
    "    data = loader.load()\n",
    "    invoice = data[0].page_content\n",
    "    invoice = remove_footer(invoice)\n",
    "     # get parent folder name\n",
    "    parent_folder = os.path.basename(os.path.dirname(invoice_document))\n",
    "    # get file name only\n",
    "    file_name = os.path.basename(invoice_document)\n",
    "    # extract doit payer id from the parent folder name\n",
    "    payer_id = parent_folder.split(\"_\")[1]\n",
    "    # add file name to the invoice\n",
    "    invoice = f\"File name: {file_name}\\nDoiT payer id: {payer_id}\\n\" + invoice\n",
    "    return invoice\n",
    "  \n",
    "file_name = input(\"Enter invoice file path\")\n",
    "print(read_invoice(file_name))"
   ],
   "metadata": {
    "collapsed": false,
    "ExecuteTime": {
     "end_time": "2024-07-21T10:26:15.765976Z",
     "start_time": "2024-07-21T10:26:09.820788Z"
    }
   },
   "id": "433ab38da31de33d",
   "outputs": [
    {
     "name": "stdout",
     "output_type": "stream",
     "text": [
      "File name: 2024-03-28_Invoice_SGIN24_195445.pdf\n",
      "DoiT payer id: doitintl-payer-2276\n",
      "Tax Invoice\n",
      "Email or talk to us about your AWS account or bill, visit console.aws.amazon.com/support\n",
      "More information regarding your service charges is available by accessing your Billing Management Console\n",
      "Account number:\n",
      "577224445833\n",
      "GST number:\n",
      "202236074C\n",
      "Address:\n",
      "DoiT International Xinjiapo Pte.Ltd.\n",
      "ATTN: Vadim Solovey\n",
      "135 Cecil Street #10–01\n",
      "Philippine Airlines Building\n",
      "Singapore, N/A, 069536, SG\n",
      "Invoice Summary\n",
      "Tax Invoice Number:\n",
      "SGIN24-195445\n",
      "Tax Invoice Date:\n",
      "March 28, 2024\n",
      "TOTAL AMOUNT DUE ON April\n",
      "27, 2024\n",
      "USD 14,198.27\n",
      "This Tax Invoice is for the billing period March 1 - March 31, 2024\n",
      "You have selected USD as your preferred payment currency. Certain services sold and provided in Singapore by AMCS\n",
      "SG Private Limited (GST No: 201922646H) will be invoiced by Amazon Web Services Singapore Private Limited. See\n",
      "Service Terms (https://aws.amazon.com/service-terms/) for further details.\n",
      "Invoice Summary\n",
      "AWS Service Charges (1 USD = 1.34538 SGD)\n",
      "USD 14,198.27\n",
      "SGD 19,102.07\n",
      "4 x Amazon Relational Database Service (one time fee)\n",
      "USD 14,236.00\n",
      "SGD 19,152.83\n",
      "Discount (Enterprise Discount Program)\n",
      "-USD 1,210.06\n",
      "-SGD 1,627.99\n",
      "Net Charges (After Credits/Discounts, excl. Tax)\n",
      "USD 13,025.94\n",
      "SGD 17,524.84\n",
      "Total SG GST Amount at 9%\n",
      "USD 1,172.33\n",
      "SGD 1,577.23\n",
      "Electronic funds transfer details\n",
      "AWS requires your account ID and invoice number for all payments. This information must be included in either the descriptive\n",
      "ﬁeld of the EFT or in an email sent to aws-sg-receivables-support@email.amazon.com. Emailed remittance advice must be\n",
      "sent prior to payment.\n",
      "Bank Name\n",
      "Hongkong and Shanghai Banking Corporation Limited\n",
      "Account Name\n",
      "Amazon Web Services Singapore Private Limited\n",
      "Account Number\n",
      "260512298178\n",
      "SWIFT Code\n",
      "HSBCSGSG\n",
      "Currency\n",
      "USD\n",
      "Amazon Web Services Singapore Private Limited\n",
      "1, 17-00, Robinson Road, AIA Tower, 048542, Singapore\n",
      "GST Reg No: 201434292D\n",
      "1 / 4\n",
      "\n"
     ]
    }
   ],
   "execution_count": 2
  },
  {
   "cell_type": "code",
   "source": [
    "import asyncio\n",
    "from langchain_openai import ChatOpenAI\n",
    "from main import extract_data\n",
    "\n",
    "async def process_invoice(file_path):\n",
    "    invoice = read_invoice(file_path)\n",
    "    # Instantiate the model.\n",
    "    llm = ChatOpenAI(\n",
    "        model=\"gpt-4o-mini\",\n",
    "        openai_api_key=os.getenv(\"OPENAI_API_KEY\"),\n",
    "        temperature=0.0,\n",
    "        max_tokens=16384,\n",
    "        top_p=0.0,\n",
    "    )\n",
    "    try:\n",
    "        parsed = await extract_data(llm, document=invoice, sem=asyncio.Semaphore(1))\n",
    "        if isinstance(parsed, Exception):\n",
    "            print(f\"Error processing invoice: {parsed}\")\n",
    "        elif isinstance(parsed, AwsInvoiceCredit):\n",
    "            # Print parsed data as a JSON object\n",
    "            print(parsed.model_dump_json())\n",
    "        else:\n",
    "            print(f\"Unexpected result type: {type(parsed)}\")\n",
    "    except Exception as e:\n",
    "        print(f\"Unexpected error processing invoice: {e}\")\n",
    "\n",
    "# Replace 'your_invoice_file_path.pdf' with the actual file path\n",
    "file_path = input(\"Enter invoice file path: \")\n",
    "await process_invoice(file_path)"
   ],
   "metadata": {
    "collapsed": false,
    "ExecuteTime": {
     "end_time": "2024-07-21T10:26:25.200348Z",
     "start_time": "2024-07-21T10:26:18.220036Z"
    }
   },
   "id": "d3e4bfd676466fb3",
   "outputs": [
    {
     "name": "stdout",
     "output_type": "stream",
     "text": [
      "{\"file_name\":\"2024-03-28_Invoice_SGIN24_195445.pdf\",\"doit_payer_id\":\"doitintl-payer-2276\",\"document_type\":\"Invoice\",\"ri_invoice\":true,\"aws_account_number\":\"577224445833\",\"address_company\":\"DoiT International Xinjiapo Pte.Ltd.\",\"address_attn\":\"Vadim Solovey\",\"address_country\":\"Singapore\",\"tax_registration_number\":\"202236074C\",\"invoice_number\":\"SGIN24-195445\",\"invoice_date\":\"March 28, 2024\",\"allocation_number\":null,\"original_invoice_number\":null,\"original_invoice_date\":null,\"total_amount\":14198.27,\"total_amount_currency\":\"USD\",\"total_vat_tax_amount\":1172.33,\"total_vat_tax_currency\":\"USD\",\"billing_period\":\"March 1, 2024 - March 31, 2024\",\"net_charges_usd\":13025.94,\"net_charges_non_usd\":17524.84,\"net_charges_currency\":\"SGD\",\"vat_percentage\":9.0,\"exchange_rate\":1.34538,\"amazon_company_name\":\"Amazon Web Services Singapore Private Limited\",\"amazon_company_branch\":null}\n"
     ]
    }
   ],
   "execution_count": 3
  },
  {
   "metadata": {},
   "cell_type": "code",
   "source": "",
   "id": "1e4d8ca7fb99c114",
   "outputs": [],
   "execution_count": null
  }
 ],
 "metadata": {
  "kernelspec": {
   "display_name": "Python 3",
   "language": "python",
   "name": "python3"
  },
  "language_info": {
   "codemirror_mode": {
    "name": "ipython",
    "version": 2
   },
   "file_extension": ".py",
   "mimetype": "text/x-python",
   "name": "python",
   "nbconvert_exporter": "python",
   "pygments_lexer": "ipython2",
   "version": "2.7.6"
  }
 },
 "nbformat": 4,
 "nbformat_minor": 5
}
