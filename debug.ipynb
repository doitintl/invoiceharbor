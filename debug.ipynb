{
 "cells": [
  {
   "cell_type": "code",
   "source": [
    "from main import AwsInvoiceCredit\n",
    "from langchain.output_parsers import PydanticOutputParser\n",
    "\n",
    "parser = PydanticOutputParser(pydantic_object=AwsInvoiceCredit)\n",
    "print(parser.get_format_instructions())"
   ],
   "metadata": {
    "collapsed": false
   },
   "id": "52e33b4b35e437b2",
   "outputs": [],
   "execution_count": null
  },
  {
   "cell_type": "code",
   "source": [
    "import os\n",
    "from main import remove_footer\n",
    "from langchain_community.document_loaders import PyMuPDFLoader\n",
    "\n",
    "def read_invoice(invoice_document):\n",
    "    loader = PyMuPDFLoader(invoice_document)\n",
    "    data = loader.load()\n",
    "    invoice = data[0].page_content\n",
    "    invoice = remove_footer(invoice)\n",
    "     # get parent folder name\n",
    "    parent_folder = os.path.basename(os.path.dirname(invoice_document))\n",
    "    # get file name only\n",
    "    file_name = os.path.basename(invoice_document)\n",
    "    # extract doit payer id from the parent folder name\n",
    "    payer_id = parent_folder.split(\"_\")[1]\n",
    "    # add file name to the invoice\n",
    "    invoice = f\"File name: {file_name}\\nDoiT payer id: {payer_id}\\n\" + invoice\n",
    "    return invoice\n",
    "  \n",
    "file_name = input(\"Enter invoice file path\")\n",
    "print(read_invoice(file_name))"
   ],
   "metadata": {
    "collapsed": false
   },
   "id": "433ab38da31de33d",
   "outputs": [],
   "execution_count": null
  },
  {
   "cell_type": "code",
   "source": [
    "import asyncio\n",
    "from langchain_openai import ChatOpenAI\n",
    "from main import extract_data\n",
    "\n",
    "async def process_invoice(file_path):\n",
    "    invoice = read_invoice(file_path)\n",
    "    # Instantiate the model.\n",
    "    llm = ChatOpenAI(\n",
    "        model=\"gpt-4o-mini\",\n",
    "        openai_api_key=os.getenv(\"OPENAI_API_KEY\"),\n",
    "        temperature=0.0,\n",
    "        max_tokens=16384,\n",
    "        top_p=0.0,\n",
    "    )\n",
    "    try:\n",
    "        parsed = await extract_data(llm, document=invoice, sem=asyncio.Semaphore(1))\n",
    "        if isinstance(parsed, Exception):\n",
    "            print(f\"Error processing invoice: {parsed}\")\n",
    "        elif isinstance(parsed, AwsInvoiceCredit):\n",
    "            # Print parsed data as a JSON object\n",
    "            print(parsed.model_dump_json())\n",
    "        else:\n",
    "            print(f\"Unexpected result type: {type(parsed)}\")\n",
    "    except Exception as e:\n",
    "        print(f\"Unexpected error processing invoice: {e}\")\n",
    "\n",
    "# Replace 'your_invoice_file_path.pdf' with the actual file path\n",
    "file_path = input(\"Enter invoice file path: \")\n",
    "await process_invoice(file_path)"
   ],
   "metadata": {
    "collapsed": false
   },
   "id": "d3e4bfd676466fb3",
   "outputs": [],
   "execution_count": null
  },
  {
   "metadata": {},
   "cell_type": "code",
   "source": "",
   "id": "1e4d8ca7fb99c114",
   "outputs": [],
   "execution_count": null
  }
 ],
 "metadata": {
  "kernelspec": {
   "display_name": "Python 3",
   "language": "python",
   "name": "python3"
  },
  "language_info": {
   "codemirror_mode": {
    "name": "ipython",
    "version": 2
   },
   "file_extension": ".py",
   "mimetype": "text/x-python",
   "name": "python",
   "nbconvert_exporter": "python",
   "pygments_lexer": "ipython2",
   "version": "2.7.6"
  }
 },
 "nbformat": 4,
 "nbformat_minor": 5
}
