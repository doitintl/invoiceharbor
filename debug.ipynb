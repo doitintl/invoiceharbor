{
 "cells": [
  {
   "cell_type": "code",
   "source": [
    "from main import AwsInvoiceCredit\n",
    "from langchain.output_parsers import PydanticOutputParser\n",
    "\n",
    "parser = PydanticOutputParser(pydantic_object=AwsInvoiceCredit)\n",
    "print(parser.get_format_instructions())"
   ],
   "metadata": {
    "collapsed": false
   },
   "id": "52e33b4b35e437b2",
   "outputs": [],
   "execution_count": null
  },
  {
   "cell_type": "code",
   "source": [
    "import csv\n",
    "\n",
    "# Define the path to the input CSV file and the path to the output sorted CSV file\n",
    "input_file_path = input(\"Sort CSV file\") \n",
    "output_file_path = 'sorted_' + input_file_path\n",
    "\n",
    "# Read the CSV file into a list of dictionaries, where each dictionary represents a row\n",
    "rows = []\n",
    "with open(input_file_path, 'r') as csv_file:\n",
    "    csv_reader = csv.DictReader(csv_file)\n",
    "    header = csv_reader.fieldnames\n",
    "    for row in csv_reader:\n",
    "        rows.append(row)\n",
    "\n",
    "# Sort the list of dictionaries based on the value of the first column (string)\n",
    "sorted_rows = sorted(rows, key=lambda x: x[header[0]])\n",
    "\n",
    "# Write the sorted rows back to a new CSV file\n",
    "with open(output_file_path, 'w', newline='') as csv_file:\n",
    "    csv_writer = csv.DictWriter(csv_file, fieldnames=header)\n",
    "    \n",
    "    # Write the header\n",
    "    csv_writer.writeheader()\n",
    "    \n",
    "    # Write the sorted rows\n",
    "    for row in sorted_rows:\n",
    "        csv_writer.writerow(row)\n",
    "\n",
    "print(f\"The CSV file has been sorted alphabetically based on the first column and saved to {output_file_path}.\")\n"
   ],
   "metadata": {
    "collapsed": false
   },
   "id": "2e4a02dcc0fe601a",
   "outputs": [],
   "execution_count": null
  },
  {
   "cell_type": "code",
   "source": [
    "with open('prompts/prompt.txt', 'r') as file:\n",
    "    content = file.read()\n",
    "\n",
    "# Replace '\\n' with actual newline character\n",
    "content = content.replace('\\\\n', '\\n')\n",
    "content = content.replace('\\\\\"', '\"')\n",
    "\n",
    "with open('prompts/prompt.txt', 'w') as file:\n",
    "    file.write(content)\n"
   ],
   "metadata": {
    "collapsed": false
   },
   "id": "1144d475f96f7ee7",
   "outputs": [],
   "execution_count": null
  },
  {
   "cell_type": "code",
   "source": [
    "from main import remove_footer\n",
    "\n",
    "def read_invoice(invoice_document):\n",
    "    loader = PyMuPDFLoader(invoice_document)\n",
    "    data = loader.load()\n",
    "    invoice = data[0].page_content\n",
    "    invoice = remove_footer(invoice)\n",
    "     # get parent folder name\n",
    "    parent_folder = os.path.basename(os.path.dirname(invoice_document))\n",
    "    # get file name only\n",
    "    file_name = os.path.basename(invoice_document)\n",
    "    # extract doit payer id from the parent folder name\n",
    "    payer_id = parent_folder.split(\"_\")[1]\n",
    "    # add file name to the invoice\n",
    "    invoice = f\"File name: {file_name}\\nDoiT payer id: {payer_id}\\n\" + invoice\n",
    "    return invoice\n",
    "  \n",
    "file_name = input(\"Enter invoice file path\")\n",
    "print(read_invoice(file_name))"
   ],
   "metadata": {
    "collapsed": false
   },
   "id": "433ab38da31de33d",
   "outputs": [],
   "execution_count": null
  },
  {
   "cell_type": "code",
   "source": [
    "import os\n",
    "from langchain_community.document_loaders import PyMuPDFLoader\n",
    "\n",
    "def read_file(file):\n",
    "    loader = PyMuPDFLoader(file)\n",
    "    data = loader.load()\n",
    "    # return all pages as a single string\n",
    "    return \"\\n\".join([page.page_content for page in data])\n",
    "  \n",
    "file_name = input(\"Enter PDF file path\")\n",
    "print(read_file(file_name))"
   ],
   "metadata": {
    "collapsed": false
   },
   "id": "50b4f47333fa707c",
   "outputs": [],
   "execution_count": null
  },
  {
   "cell_type": "markdown",
   "source": [
    "## Parse AWS Invoice/Credit Record from PDF"
   ],
   "metadata": {
    "collapsed": false
   },
   "id": "35804adc842daaa8"
  },
  {
   "cell_type": "code",
   "source": [
    "import textwrap\n",
    "from langchain.chains import LLMChain\n",
    "from langchain.chat_models import ChatOpenAI\n",
    "from langchain.prompts import PromptTemplate\n",
    "\n",
    "def extract_data(model, document):\n",
    "    # Update the prompt to match the new query and desired format.\n",
    "    # Instantiate the parser with the new model.\n",
    "    parser = PydanticOutputParser(pydantic_object=AwsInvoiceCredit)\n",
    "    # Get the file name from the first line of the document\n",
    "    file_name = document.split(\"\\n\")[0].split(\":\")[1].strip()\n",
    "    # Update the prompt to match the new query and desired format.\n",
    "    prompt = PromptTemplate(\n",
    "        template=textwrap.dedent(\n",
    "            \"\"\"\n",
    "            The following document is a plain text extracted from AWS Invoice or Credit Note PDF file.\n",
    "            \n",
    "            <document>\n",
    "            {invoice}\n",
    "            <document>\n",
    "            \n",
    "            Act as an accountant and extract data from the above document into a flat JSON object.\n",
    "            {format_instructions}\n",
    "            {request}\n",
    "            \n",
    "            JSON:\n",
    "            \"\"\"\n",
    "        ),\n",
    "        input_variables=[\"request\", \"invoice\"],\n",
    "        partial_variables={\n",
    "            \"format_instructions\": parser.get_format_instructions(),\n",
    "        },\n",
    "    )\n",
    "    # Generate the input using the updated prompt.\n",
    "    parsing_request = textwrap.dedent(\n",
    "        \"\"\"\n",
    "        Tips:\n",
    "        - Convert ALL dates to \"Month name Day, Year\" format with no leading zeros\n",
    "        - Format ALL dates according to \"Month name Day, Year\" format with no leading zeros\n",
    "        - Convert ALL instances of alpha-2 country code to a full country name\n",
    "        - Branch name should not contain a full company name\n",
    "        - Be careful with charges and amount signs, they are usually negative for credits\n",
    "        - Extract exchange rate (X) from (1 USD = X currency) pattern\n",
    "        \"\"\"\n",
    "    )\n",
    "    chain = LLMChain(llm=model, prompt=prompt)\n",
    "    try:\n",
    "        output = chain.run(request=parsing_request, invoice=document)\n",
    "        # remove everything before the first { and after the last }\n",
    "        output = output[output.find(\"{\"):output.rfind(\"}\") + 1]\n",
    "        parsed = parser.parse(output)\n",
    "        return parsed\n",
    "    except Exception as e:\n",
    "        raise Exception(f\"Error processing document {file_name}: {e}\")\n",
    "\n",
    "file_name = input(\"Enter invoice file path\")\n",
    "invoice = read_invoice(file_name)\n",
    "# Instantiate the model.\n",
    "llm = ChatOpenAI(\n",
    "    model=\"gpt-4o\",\n",
    "    openai_api_key=os.getenv(\"OPENAI_API_KEY\"),\n",
    "    temperature=0.0,\n",
    "    max_tokens=4096,\n",
    "    model_kwargs={\"top_p\": 0.01}\n",
    ")\n",
    "parsed = extract_data(llm, invoice)\n",
    "# print parsed data as a JSON object\n",
    "print(parsed.model_dump_json(indent=2))"
   ],
   "metadata": {
    "collapsed": false
   },
   "id": "d3e4bfd676466fb3",
   "outputs": [],
   "execution_count": null
  },
  {
   "metadata": {},
   "cell_type": "markdown",
   "source": "## Compate two CSV files",
   "id": "a9498780e0e4814b"
  },
  {
   "metadata": {},
   "cell_type": "code",
   "source": [
    "import pandas as pd\n",
    "\n",
    "# Read CSV files\n",
    "test = pd.read_csv('invoices-test.csv')\n",
    "result = pd.read_csv('invoices-result.csv')\n",
    "\n",
    "# Ensure both dataframes have the same columns for comparison\n",
    "common_columns = list(set(test.columns).intersection(set(result.columns)))\n",
    "test = test[common_columns]\n",
    "result = result[common_columns]\n",
    "\n",
    "# sort dataframes by the doit_payer_id column and then by the file_name column\n",
    "test = test.sort_values(by=['doit_payer_id', 'file_name'])\n",
    "result = result.sort_values(by=['doit_payer_id', 'file_name'])\n",
    "\n",
    "# Reset index for both dataframes before comparison\n",
    "test.reset_index(drop=True, inplace=True)\n",
    "result.reset_index(drop=True, inplace=True)\n",
    "\n",
    "# compare row by row\n",
    "for i in range(len(test)):\n",
    "    for col in test.columns:\n",
    "        # if values are not equal, print the row and column where the difference occurs\n",
    "        # compare values as strings to handle NaN values\n",
    "        if str(test[col][i]) != str(result[col][i]):\n",
    "            # ignore NaN values\n",
    "            if pd.isna(test[col][i]) and pd.isna(result[col][i]):\n",
    "                continue\n",
    "            print(f\"Invoice {test['file_name'][i]}, {col}: Test={test[col][i]}, Result={result[col][i]}\")\n"
   ],
   "id": "35cdef3bf3afdaea",
   "outputs": [],
   "execution_count": null
  }
 ],
 "metadata": {
  "kernelspec": {
   "display_name": "Python 3",
   "language": "python",
   "name": "python3"
  },
  "language_info": {
   "codemirror_mode": {
    "name": "ipython",
    "version": 2
   },
   "file_extension": ".py",
   "mimetype": "text/x-python",
   "name": "python",
   "nbconvert_exporter": "python",
   "pygments_lexer": "ipython2",
   "version": "2.7.6"
  }
 },
 "nbformat": 4,
 "nbformat_minor": 5
}
