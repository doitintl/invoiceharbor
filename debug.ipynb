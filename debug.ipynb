{
 "cells": [
  {
   "cell_type": "code",
   "execution_count": null,
   "id": "initial_id",
   "metadata": {
    "collapsed": true
   },
   "outputs": [],
   "source": [
    "from typing import Optional\n",
    "from pydantic import BaseModel, Field\n",
    "\n",
    "# Define a new Pydantic model with field descriptions and tailored for AWS Invoice/Credit Record.\n",
    "class AwsInvoiceCredit(BaseModel):\n",
    "    file_name: str = Field(description=\"AWS Invoice PDF file name\")\n",
    "    doit_payer_id: str = Field(description=\"Doit Payer ID\")\n",
    "    document_type: str = Field(description=\"Document Type: can be 'Invoice' or 'Credit Note' only. Credit Note can be Credit Memo or Credit Adjustment Note.\")\n",
    "    aws_account_number: str = Field(description=\"AWS Account number\")\n",
    "    address_company: str = Field(description=\"Address or Bill to Address company name. Use first line of the address. Usually, it is the company name.\")\n",
    "    address_attn: str = Field(description=\"Address or Bill to Address ATTN (skip the ATTN prefix). Use second line of the address. Usually, it is the name of the person.\")\n",
    "    address_country: str = Field(description=\"Bill to address country. Use last line of the address. Usually, it is the country name. Convert country code to a full country name.\")\n",
    "    tax_registration_number: Optional[str] = Field(default=None, description=\"Tax Registration Number or ABN Number or GST Number or GST/HST Registration number or  Issued To; usually the next number after AWS Account Number\")\n",
    "    billing_period: str = Field(description=\"Billing Period; Two dates separated by a dash\")  \n",
    "    invoice_number: str = Field(description=\"Invoice Number from the Invoice Summary\")\n",
    "    invoice_date: str = Field(description=\"Invoice Date from the Invoice Summary\")\n",
    "    original_invoice_number: Optional[str] = Field(default=None, description=\"Original Invoice Number from the Invoice Summary of Credit Memo/Note; leave empty if not present\")\n",
    "    original_invoice_date: Optional[str] = Field(default=None, description=\"Original Invoice Date from the Invoice Adjustment Summary of Credit Memo/Note; leave empty if not present\")\n",
    "    total_amount: float = Field(description=\"Total Amount from the Invoice Summary; without currency; add minus sign if parentheses around or has a minus prefix\")\n",
    "    total_amount_currency: str = Field(description=\"Total Amount Currency from the Invoice Summary; use currency code instead of symbol\")\n",
    "    total_vat_tax_amount: Optional[float] = Field(default=None, description=\"(Total) VAT/Tax Amount from the (Invoice) Summary; without currency; add minus sign if parentheses around or has a minus prefix\")\n",
    "    total_vat_tax_currency: Optional[str] = Field(default=None, description=\"VAT/Tax Currency from the (Invoice) Summary; use currency code instead of symbol\")\n",
    "    net_charges_usd: Optional[float] = Field(default=None, description=\"(Net) Charges (USD) (After Credits/Discounts, excl. Tax) from the (Invoice) Summary; without currency; add minus sign if parentheses around or has a minus prefix\")\n",
    "    net_charges_non_usd: Optional[float] = Field(default=None, description=\"Net Charges (non-USD) (After Credits/Discounts, excl. Tax) in local currency from the Invoice Summary; without currency; add minus sign if parentheses around or has a minus prefix\")\n",
    "    net_charges_currency: Optional[str] = Field(default=None, description=\"Net Charges (non-USD) local currency; use currency code instead of symbol\")\n",
    "    vat_percentage: Optional[float] = Field(default=None, description=\"Extract VAT percent (without % sign) from one of these fields: VAT - <number>% or VAT in <percent> or GST amount at <percent> or HST Amount at <percent>\")\n",
    "    exchange_rate: Optional[float] = Field(default=None, description=\"Exchange Rate from the (1 USD = <rate> currency) formula\")\n",
    "    amazon_company_name: str = Field(description=\"Amazon Web Services company name. Usually, it is Amazon Web Services, Inc. but can be different for different countries\")\n",
    "    amazon_company_branch: Optional[str] = Field(default=None, description=\"Amazon Web Services company branch. Usually, it is after Amazon Web Services EMEA SARL but can be different for different countries\")"
   ]
  },
  {
   "cell_type": "code",
   "outputs": [],
   "source": [
    " from langchain.output_parsers import PydanticOutputParser\n",
    "\n",
    "\n",
    " parser = PydanticOutputParser(pydantic_object=AwsInvoiceCredit)\n",
    " print(parser.get_format_instructions())"
   ],
   "metadata": {
    "collapsed": false
   },
   "id": "52e33b4b35e437b2",
   "execution_count": null
  },
  {
   "cell_type": "code",
   "outputs": [],
   "source": [
    "import csv\n",
    "\n",
    "# Define the path to the input CSV file and the path to the output sorted CSV file\n",
    "input_file_path = input(\"Sort CSV file\") \n",
    "output_file_path = 'sorted_' + input_file_path\n",
    "\n",
    "# Read the CSV file into a list of dictionaries, where each dictionary represents a row\n",
    "rows = []\n",
    "with open(input_file_path, 'r') as csv_file:\n",
    "    csv_reader = csv.DictReader(csv_file)\n",
    "    header = csv_reader.fieldnames\n",
    "    for row in csv_reader:\n",
    "        rows.append(row)\n",
    "\n",
    "# Sort the list of dictionaries based on the value of the first column (string)\n",
    "sorted_rows = sorted(rows, key=lambda x: x[header[0]])\n",
    "\n",
    "# Write the sorted rows back to a new CSV file\n",
    "with open(output_file_path, 'w', newline='') as csv_file:\n",
    "    csv_writer = csv.DictWriter(csv_file, fieldnames=header)\n",
    "    \n",
    "    # Write the header\n",
    "    csv_writer.writeheader()\n",
    "    \n",
    "    # Write the sorted rows\n",
    "    for row in sorted_rows:\n",
    "        csv_writer.writerow(row)\n",
    "\n",
    "print(f\"The CSV file has been sorted alphabetically based on the first column and saved to {output_file_path}.\")\n"
   ],
   "metadata": {
    "collapsed": false
   },
   "id": "2e4a02dcc0fe601a",
   "execution_count": null
  },
  {
   "cell_type": "code",
   "outputs": [],
   "source": [
    "with open('prompts/prompt.txt', 'r') as file:\n",
    "    content = file.read()\n",
    "\n",
    "# Replace '\\n' with actual newline character\n",
    "content = content.replace('\\\\n', '\\n')\n",
    "content = content.replace('\\\\\"', '\"')\n",
    "\n",
    "with open('prompts/prompt.txt', 'w') as file:\n",
    "    file.write(content)\n"
   ],
   "metadata": {
    "collapsed": false
   },
   "id": "1144d475f96f7ee7",
   "execution_count": null
  },
  {
   "cell_type": "code",
   "outputs": [],
   "source": [
    "import os\n",
    "from langchain_community.document_loaders import PyMuPDFLoader\n",
    "\n",
    "def read_invoice(file):\n",
    "    loader = PyMuPDFLoader(file)\n",
    "    data = loader.load()\n",
    "    invoice = data[0].page_content \n",
    "     # get parent folder name\n",
    "    parent_folder = os.path.basename(os.path.dirname(file))\n",
    "    # get file name only\n",
    "    file_name = os.path.basename(file)\n",
    "    # extract doit payer id from the parent folder name\n",
    "    payer_id = parent_folder.split(\"_\")[1]\n",
    "    # add file name to the invoice\n",
    "    invoice = f\"File name: {file_name}\\nDoiT payer id: {payer_id}\\n\" + invoice\n",
    "    return invoice\n",
    "  \n",
    "file_name = input(\"Enter invoice file path\")\n",
    "print(read_invoice(file_name))"
   ],
   "metadata": {
    "collapsed": false
   },
   "id": "433ab38da31de33d",
   "execution_count": null
  },
  {
   "cell_type": "markdown",
   "source": [
    "## Parse AWS Invoice/Credit Record from PDF"
   ],
   "metadata": {
    "collapsed": false
   },
   "id": "35804adc842daaa8"
  },
  {
   "cell_type": "code",
   "outputs": [],
   "source": [
    "import textwrap\n",
    "from langchain.chains import LLMChain\n",
    "from langchain.chat_models import ChatOpenAI\n",
    "from langchain.prompts import PromptTemplate\n",
    "\n",
    "def extract_data(model, document):\n",
    "    # Update the prompt to match the new query and desired format.\n",
    "    # Instantiate the parser with the new model.\n",
    "    parser = PydanticOutputParser(pydantic_object=AwsInvoiceCredit)\n",
    "    # Get the file name from the first line of the document\n",
    "    file_name = document.split(\"\\n\")[0].split(\":\")[1].strip()\n",
    "    # Update the prompt to match the new query and desired format.\n",
    "    prompt = PromptTemplate(\n",
    "        template=textwrap.dedent(\n",
    "            \"\"\"\n",
    "            The following document is a plain text extracted from AWS Invoice or Credit Note PDF file.\n",
    "            \n",
    "            <document>\n",
    "            {invoice}\n",
    "            <document>\n",
    "            \n",
    "            Act as an accountant and extract data from the above document into a flat JSON object.\n",
    "            {format_instructions}\n",
    "            {request}\n",
    "            \n",
    "            JSON:\n",
    "            \"\"\"\n",
    "        ),\n",
    "        input_variables=[\"request\", \"invoice\"],\n",
    "        partial_variables={\n",
    "            \"format_instructions\": parser.get_format_instructions(),\n",
    "        },\n",
    "    )\n",
    "    # Generate the input using the updated prompt.\n",
    "    parsing_request = textwrap.dedent(\n",
    "        \"\"\"\n",
    "        Tips:\n",
    "        - Convert all dates to \"Month name Day, Year\" format with no leading zeros\n",
    "        - Format all dates according to \"Month name Day, Year\" format with no leading zeros\n",
    "        - Convert alpha-2 country code to a full country name\n",
    "        - Branch name should not contain a full company name\n",
    "        - Be careful with charges and amount signs, they are usually negative for credits\n",
    "        - Extract exchange rate (X) from (1 USD = X currency) pattern\n",
    "        \"\"\"\n",
    "    )\n",
    "    chain = LLMChain(llm=model, prompt=prompt)\n",
    "    try:\n",
    "        output = chain.run(request=parsing_request, invoice=document)\n",
    "        # remove everything before the first { and after the last }\n",
    "        output = output[output.find(\"{\"):output.rfind(\"}\") + 1]\n",
    "        parsed = parser.parse(output)\n",
    "        return parsed\n",
    "    except Exception as e:\n",
    "        raise Exception(f\"Error processing document {file_name}: {e}\")\n",
    "\n",
    "file_name = input(\"Enter invoice file path\")\n",
    "invoice = read_invoice(file_name)\n",
    "# Instantiate the model.\n",
    "llm = ChatOpenAI(\n",
    "    model=\"gpt-4-0125-preview\",\n",
    "    openai_api_key=os.getenv(\"OPENAI_API_KEY\"),\n",
    "    temperature=0.0,\n",
    "    max_tokens=4096,\n",
    "    model_kwargs={\"top_p\": 0.0}\n",
    ")\n",
    "parsed = extract_data(llm, invoice)\n",
    "# print parsed data as a JSON object\n",
    "print(parsed.model_dump_json(indent=2))"
   ],
   "metadata": {
    "collapsed": false
   },
   "id": "d3e4bfd676466fb3",
   "execution_count": null
  }
 ],
 "metadata": {
  "kernelspec": {
   "display_name": "Python 3",
   "language": "python",
   "name": "python3"
  },
  "language_info": {
   "codemirror_mode": {
    "name": "ipython",
    "version": 2
   },
   "file_extension": ".py",
   "mimetype": "text/x-python",
   "name": "python",
   "nbconvert_exporter": "python",
   "pygments_lexer": "ipython2",
   "version": "2.7.6"
  }
 },
 "nbformat": 4,
 "nbformat_minor": 5
}
