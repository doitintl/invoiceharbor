{
 "cells": [
  {
   "cell_type": "raw",
   "source": [
    "## Playground for invoice processing "
   ],
   "metadata": {
    "collapsed": false
   },
   "id": "355e50d913dd361f"
  },
  {
   "cell_type": "markdown",
   "source": [
    "Use Bedrock to extract the data"
   ],
   "metadata": {
    "collapsed": false
   },
   "id": "3fbfc5f572e8cdea"
  },
  {
   "cell_type": "code",
   "execution_count": null,
   "outputs": [],
   "source": [
    "import boto3\n",
    "from langchain.llms import Bedrock\n",
    "\n",
    "def get_bedrock_client(region=\"us-east-1\"):\n",
    "    bedrock_client = boto3.client(\"bedrock-runtime\", region_name=region)\n",
    "    return bedrock_client\n",
    "\n",
    "def create_bedrock_llm(bedrock_client, model_version_id):\n",
    "    bedrock_llm = Bedrock(\n",
    "        model_id=model_version_id, \n",
    "        client=bedrock_client,\n",
    "        model_kwargs={'temperature': 0, 'maxTokenCount': 2048}\n",
    "        )\n",
    "    return bedrock_llm\n",
    "\n",
    "# Creating all clients for chain\n",
    "client = get_bedrock_client()\n",
    "llm = create_bedrock_llm(client, \"amazon.titan-text-express-v1\")"
   ],
   "metadata": {
    "collapsed": false
   },
   "id": "5c0c14d027730322"
  },
  {
   "cell_type": "raw",
   "source": [
    "Create prompt for Bedrock with the invoice data"
   ],
   "metadata": {
    "collapsed": false
   },
   "id": "d8644c0d21ecf8e3"
  },
  {
   "cell_type": "code",
   "execution_count": null,
   "outputs": [],
   "source": [
    "def extract_data(model, document):\n",
    "    # Create prompt to parse the invoice with Bedrock LLM\n",
    "    prompt_template = \"\"\"\n",
    "    Parse the invoice below. Extract data following the instructions into a flat JSON object.\n",
    "    Extract the following fields into a JSON record:\n",
    "    - file name ## skip if not present\n",
    "    - doit payer id ## skip if not present\n",
    "    - tax invoice number ## can also be a (vat) credit note number; leave empty if not present\n",
    "    - original invoice number ## or original tax invoice number; leave empty if not present\n",
    "    - invoice date\n",
    "    - original invoice date ## leave empty if not present; leave empty if not present\n",
    "    - due date\n",
    "    - tax registration number ## tax registration, ABN number or GST/HST Registration number; leave empty if not present,\n",
    "    - billing period\n",
    "    - aws account number\n",
    "    - total amount ## without currency, formatted as float number, can be negative if in parentheses\n",
    "    - total amount currency  ## use currency code instead of symbol\n",
    "    - total VAT/tax amount ## without currency, formatted as float number, can be negative if in parentheses\n",
    "    - vat/tax currency ## use currency code instead of symbol\n",
    "    - exchange rate\n",
    "    - address company\n",
    "    - address ATTN\n",
    "    - address country ## convert country code to a full country name\n",
    "    \n",
    "    Return the extracted fields in the valid JSON format: only JSON objects and arrays are allowed without any comments or other text. Keep it as simple as possible and ensure the JSON is valid.\n",
    "    Skip the fields that are not present in the invoice. DO NOT OBFUSCATE DATA!\n",
    "    Be careful with the currency symbols, which are not always in the invoice.\n",
    "    Try to extract the fields even if the invoice format differs from the one below. and the fields are not in the same order. \n",
    "    My job depends on it! And I will be very grateful to you! Will pay you an extra 1000$ if you do it without errors!\n",
    "    \n",
    "    <invoice>\n",
    "    {invoice}\n",
    "    <invoice>\n",
    "    \"\"\"\n",
    "\n",
    "    prompt = prompt_template.format(invoice=document)\n",
    "    result = model(prompt)\n",
    "    # strip ``` from the beginning and end of the result matching the template\n",
    "    result = result.replace(\"```\", \"\")\n",
    "    # strip tabular-data-json from the result\n",
    "    result = result.replace(\"tabular-data-json\", \"\")\n",
    "    \n",
    "    # escape single slash characters\n",
    "    result = result.replace(\"\\\\\", \"\\\\\\\\\")\n",
    "     \n",
    "    return result"
   ],
   "metadata": {
    "collapsed": false
   },
   "id": "d621692a5131827"
  },
  {
   "cell_type": "code",
   "execution_count": null,
   "outputs": [],
   "source": [
    "def remove_footer(text):\n",
    "    # remove everything after one of the following lines (including the line itself)\n",
    "    lines = [\n",
    "        \"* May include estimated US sales tax, VAT, ST, GST and CT.\",\n",
    "        \"Amazon Web Services EMEA SARL\",\n",
    "        \"Amazon Web Services Australia Pty Ltd\",\n",
    "        \"AMAZON WEB SERVICES EMEA SARL\",\n",
    "        \"Amazon Web Services Canada, Inc.\",\n",
    "        \"Amazon Web Services EMEA SARL, Luxembourg, Zweigniederlassung Zürich\",\n",
    "    ]\n",
    "    for line in lines:\n",
    "        if line in text:\n",
    "            return text.split(line)[0]\n",
    "    return text"
   ],
   "metadata": {
    "collapsed": false
   },
   "id": "400b04f485187cbe"
  },
  {
   "cell_type": "code",
   "execution_count": null,
   "outputs": [],
   "source": [
    "import os\n",
    "from langchain.document_loaders import PyMuPDFLoader\n",
    "\n",
    "# scan all documents in the folder (recursively)\n",
    "def scan_folder(folder):\n",
    "    documents = []\n",
    "    for root, dirs, files in os.walk(folder):\n",
    "        for file in files:\n",
    "            if file.endswith(\".pdf\"):\n",
    "                loader = PyMuPDFLoader(os.path.join(root, file))\n",
    "                data = loader.load()\n",
    "                invoice = remove_footer(data[0].page_content)\n",
    "                # get parent folder name\n",
    "                parent_folder = os.path.basename(os.path.dirname(os.path.join(root, file)))\n",
    "                # extract doit payer id from the parent folder name\n",
    "                payer_id = parent_folder.split(\"_\")[1]\n",
    "                # add file name to the invoice\n",
    "                invoice = f\"File name: {file}\\nDoiT payer id: {payer_id}\\n\" + invoice\n",
    "                documents.append(invoice)\n",
    "    return documents\n",
    "\n",
    "documents = scan_folder(\"./data\")\n",
    "print(f\"Found {len(documents)} documents\")"
   ],
   "metadata": {
    "collapsed": false
   },
   "id": "7b40949817b79d55"
  },
  {
   "cell_type": "code",
   "execution_count": null,
   "outputs": [],
   "source": [
    "import json\n",
    "import pandas\n",
    "import time\n",
    "\n",
    "# measure time\n",
    "start = time.time()\n",
    "\n",
    "# Initialize an empty list to store the results\n",
    "results = []\n",
    "\n",
    "# Loop over the first max documents\n",
    "max = 228\n",
    "for i, document in enumerate(documents[:max]):\n",
    "    try:\n",
    "        # Extract data from the document\n",
    "        result = extract_data(llm, document)\n",
    "        # Append the result to the list\n",
    "        results.append(json.loads(result))\n",
    "        print(f\"Processed document {i+1} of {max}\")\n",
    "    except Exception as e:\n",
    "        print(e)\n",
    "        print(f\"Failed to process document {i+1} of {max}\")\n",
    "    \n",
    "# Convert the list of dictionaries to a DataFrame\n",
    "df = pandas.DataFrame(results)\n",
    "\n",
    "# Export the DataFrame to a CSV file\n",
    "df.to_csv(\"invoices.csv\", index=False)\n",
    "\n",
    "# measure time\n",
    "end = time.time()\n",
    "print(f\"Time elapsed: {end - start} seconds\")\n",
    "\n"
   ],
   "metadata": {
    "collapsed": false
   },
   "id": "fdf9645b23734c2b"
  },
  {
   "cell_type": "code",
   "execution_count": null,
   "outputs": [],
   "source": [
    "# select random documents from the list\n",
    "import random\n",
    "random_docs =random.choices(documents, k=1)\n",
    "for i, document in enumerate(random_docs):\n",
    "    print(document)\n"
   ],
   "metadata": {
    "collapsed": false
   },
   "id": "e50b4d165a6b2750"
  },
  {
   "cell_type": "code",
   "execution_count": null,
   "outputs": [],
   "source": [],
   "metadata": {
    "collapsed": false
   },
   "id": "244a29e3b1dcaffb"
  }
 ],
 "metadata": {
  "kernelspec": {
   "display_name": "Python 3",
   "language": "python",
   "name": "python3"
  },
  "language_info": {
   "codemirror_mode": {
    "name": "ipython",
    "version": 2
   },
   "file_extension": ".py",
   "mimetype": "text/x-python",
   "name": "python",
   "nbconvert_exporter": "python",
   "pygments_lexer": "ipython2",
   "version": "2.7.6"
  }
 },
 "nbformat": 4,
 "nbformat_minor": 5
}
