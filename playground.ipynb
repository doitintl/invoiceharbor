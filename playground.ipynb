{
 "cells": [
  {
   "cell_type": "raw",
   "source": [
    "## Playground for invoice processing "
   ],
   "metadata": {
    "collapsed": false
   },
   "id": "355e50d913dd361f"
  },
  {
   "cell_type": "markdown",
   "source": [
    "Use Bedrock to extract the data"
   ],
   "metadata": {
    "collapsed": false
   },
   "id": "3fbfc5f572e8cdea"
  },
  {
   "cell_type": "code",
   "execution_count": 1,
   "outputs": [],
   "source": [
    "import boto3\n",
    "from langchain.llms import Bedrock\n",
    "\n",
    "def get_bedrock_client(region=\"us-east-1\"):\n",
    "    bedrock_client = boto3.client(\"bedrock-runtime\", region_name=region)\n",
    "    return bedrock_client\n",
    "\n",
    "def create_bedrock_llm(bedrock_client, model_version_id):\n",
    "    bedrock_llm = Bedrock(\n",
    "        model_id=model_version_id, \n",
    "        client=bedrock_client,\n",
    "        model_kwargs={'temperature': 0, 'maxTokenCount': 1000}\n",
    "        )\n",
    "    return bedrock_llm\n",
    "\n",
    "# Creating all clients for chain\n",
    "client = get_bedrock_client()\n",
    "llm = create_bedrock_llm(client, \"amazon.titan-text-express-v1\")"
   ],
   "metadata": {
    "collapsed": false,
    "ExecuteTime": {
     "end_time": "2023-12-20T12:48:12.022244Z",
     "start_time": "2023-12-20T12:48:11.616516Z"
    }
   },
   "id": "5c0c14d027730322"
  },
  {
   "cell_type": "raw",
   "source": [
    "Create prompt for Bedrock with the invoice data"
   ],
   "metadata": {
    "collapsed": false
   },
   "id": "d8644c0d21ecf8e3"
  },
  {
   "cell_type": "code",
   "execution_count": 46,
   "outputs": [],
   "source": [
    "def extract_data(model, document):\n",
    "    # Create prompt to parse the invoice with Bedrock LLM\n",
    "    prompt_template = \"\"\"\n",
    "    Parse the invoice below. Make sure to use the first address in the document as a billing address, and extract the following fields:\n",
    "    - file name ## skip if not present\n",
    "    - doit payer id ## skip if not present\n",
    "    - tax invoice number ## can also be a (vat) credit note number\n",
    "    - original invoice number  ## or original tax invoice number; leave empty if not present\n",
    "    - invoice date\n",
    "    - original invoice date  ## leave empty if not present\n",
    "    - due date\n",
    "    - tax registration number  ## tax registration, ABN number or GST/HST Registration number; leave empty if not present\n",
    "    - billing period\n",
    "    - aws account number\n",
    "    - total amount ## without currency, formatted as float number, negative if in parentheses\n",
    "    - total amount currency  ## use currency code instead of symbol\n",
    "    - total VAT/tax amount ## without currency, formatted as float number, negative if in parentheses\n",
    "    - vat/tax currency ## use currency code instead of symbol\n",
    "    - exchange rate\n",
    "    - address company\n",
    "    - address ATTN\n",
    "    - address country  ## convert country code to country name\n",
    "    \n",
    "    Return the extracted fields in the valid JSON format: only JSON objects and arrays are allowed without any comments or other text. Try to keep it as simple as possible and make sure that the JSON is valid.\n",
    "    Skip the fields that are not present in the invoice. \n",
    "    Be careful with the currency symbols, they are not always present in the invoice.\n",
    "    Try to extract the fields even if the invoice format is different from the one below. and the fields are not in the same order. \n",
    "    \n",
    "    <example>\n",
    "    {{\n",
    "        \"file_name\": \"2023-10-02_Invoice_EUINIL23_456031.pdf\",\n",
    "        \"doit_payer_id\": \"doitintl-payer-837\",\n",
    "        \"tax_invoice_number\": \"EUINIL23-456031\",\n",
    "        \"original_invoice_number\": \"\",\n",
    "        \"invoice_date\": \"October 2, 2023\",\n",
    "        \"original_invoice_date\": \"\",\n",
    "        \"due_date\": \"November 1, 2023\",\n",
    "        \"tax_registration_number\": \"514554328\",\n",
    "        \"billing_period\": \"September 1 - September 30, 2023\",\n",
    "        \"aws_account_number\": \"925241040434\",\n",
    "        \"total_amount\": \"72083.96\",\n",
    "        \"total_amount_currency\": \"USD\",\n",
    "        \"total_vat_tax_amount\": \"10473.71\",\n",
    "        \"vat_tax_currency\": \"ILS\",\n",
    "        \"exchange_rate\": \"3.824\",\n",
    "        \"address_company\": \"DoiT International\",\n",
    "        \"address_attn\": \"Noam Ehrlich\",\n",
    "        \"address_country\": \"Israel\"\n",
    "    }}\n",
    "    <example>\n",
    "    \n",
    "    My job depends on it! And I will be very grateful to you! Will pay you extra 1000$ if you do it without errors!\n",
    "    \n",
    "    <invoice>\n",
    "    {invoice}\n",
    "    <invoice>\n",
    "    \"\"\"\n",
    "\n",
    "    prompt = prompt_template.format(invoice=document)\n",
    "    result = model(prompt)\n",
    "    # strip ``` from the beginning and end of the result matching the template\n",
    "    result = result.replace(\"```\", \"\")\n",
    "    # strip tabular-data-json from the result\n",
    "    result = result.replace(\"tabular-data-json\", \"\")\n",
    "    \n",
    "    # escape single slash characters\n",
    "    result = result.replace(\"\\\\\", \"\\\\\\\\\")\n",
    "     \n",
    "    return result"
   ],
   "metadata": {
    "collapsed": false,
    "ExecuteTime": {
     "end_time": "2023-12-20T16:20:43.296904Z",
     "start_time": "2023-12-20T16:20:43.293856Z"
    }
   },
   "id": "d621692a5131827"
  },
  {
   "cell_type": "code",
   "execution_count": 23,
   "outputs": [],
   "source": [
    "def remove_footer(text):\n",
    "    # remove everything after one of the following lines (including the line itself)\n",
    "    lines = [\n",
    "        \"* May include estimated US sales tax, VAT, ST, GST and CT.\",\n",
    "        \"Amazon Web Services EMEA SARL\",\n",
    "        \"Amazon Web Services Australia Pty Ltd\",\n",
    "        \"AMAZON WEB SERVICES EMEA SARL\",\n",
    "        \"Amazon Web Services Canada, Inc.\",\n",
    "        \"Amazon Web Services EMEA SARL, Luxembourg, Zweigniederlassung Zürich\",\n",
    "    ]\n",
    "    for line in lines:\n",
    "        if line in text:\n",
    "            return text.split(line)[0]\n",
    "    return text"
   ],
   "metadata": {
    "collapsed": false,
    "ExecuteTime": {
     "end_time": "2023-12-20T12:51:48.297018Z",
     "start_time": "2023-12-20T12:51:48.295056Z"
    }
   },
   "id": "400b04f485187cbe"
  },
  {
   "cell_type": "code",
   "execution_count": 24,
   "outputs": [],
   "source": [
    "import os\n",
    "from langchain.document_loaders import PyMuPDFLoader\n",
    "\n",
    "# scan all documents in the folder (recursively)\n",
    "def scan_folder(folder):\n",
    "    documents = []\n",
    "    for root, dirs, files in os.walk(folder):\n",
    "        for file in files:\n",
    "            if file.endswith(\".pdf\"):\n",
    "                loader = PyMuPDFLoader(os.path.join(root, file))\n",
    "                data = loader.load()\n",
    "                invoice = remove_footer(data[0].page_content)\n",
    "                # get parent folder name\n",
    "                parent_folder = os.path.basename(os.path.dirname(os.path.join(root, file)))\n",
    "                # extract doit payer id from the parent folder name\n",
    "                payer_id = parent_folder.split(\"_\")[1]\n",
    "                # add file name to the invoice\n",
    "                invoice = f\"File name: {file}\\nDoiT payer id: {payer_id}\\n\" + invoice\n",
    "                documents.append(invoice)\n",
    "    return documents"
   ],
   "metadata": {
    "collapsed": false,
    "ExecuteTime": {
     "end_time": "2023-12-20T12:51:49.111243Z",
     "start_time": "2023-12-20T12:51:49.107948Z"
    }
   },
   "id": "7b40949817b79d55"
  },
  {
   "cell_type": "code",
   "execution_count": 48,
   "outputs": [
    {
     "name": "stdout",
     "output_type": "stream",
     "text": [
      "\n",
      "\n",
      "\n",
      "{\n",
      "    \"file_name\": \"2023-10-02_Invoice_EUINIL23_456137.pdf\",\n",
      "    \"doit_payer_id\": \"doitintl-payer-735\",\n",
      "    \"tax_invoice_number\": \"EUINIL23-456137\",\n",
      "    \"original_invoice_number\": \"\",\n",
      "    \"invoice_date\": \"October 2, 2023\",\n",
      "    \"original_invoice_date\": \"\",\n",
      "    \"due_date\": \"November 1, 2023\",\n",
      "    \"tax_registration_number\": \"514554328\",\n",
      "    \"billing_period\": \"September 1 - September 30, 2023\",\n",
      "    \"aws_account_number\": \"922054565647\",\n",
      "    \"total_amount\": \"23,530.42\",\n",
      "    \"total_amount_currency\": \"USD\",\n",
      "    \"total_vat_tax_amount\": \"13,073.99\",\n",
      "    \"vat_tax_currency\": \"ILS\",\n",
      "    \"exchange_rate\": \"3.824\",\n",
      "    \"address_company\": \"DoiT International\",\n",
      "    \"address_attn\": \"Vadim Solovey\",\n",
      "    \"address_country\": \"Israel\"\n",
      "}\n",
      "\n",
      "{'file_name': '2023-10-02_Invoice_EUINIL23_456137.pdf', 'doit_payer_id': 'doitintl-payer-735', 'tax_invoice_number': 'EUINIL23-456137', 'original_invoice_number': '', 'invoice_date': 'October 2, 2023', 'original_invoice_date': '', 'due_date': 'November 1, 2023', 'tax_registration_number': '514554328', 'billing_period': 'September 1 - September 30, 2023', 'aws_account_number': '922054565647', 'total_amount': '23,530.42', 'total_amount_currency': 'USD', 'total_vat_tax_amount': '13,073.99', 'vat_tax_currency': 'ILS', 'exchange_rate': '3.824', 'address_company': 'DoiT International', 'address_attn': 'Vadim Solovey', 'address_country': 'Israel'}\n"
     ]
    }
   ],
   "source": [
    "import json\n",
    "\n",
    "documents = scan_folder(\"./data\")\n",
    "\n",
    "result = extract_data(llm, documents[22])\n",
    "print(result)\n",
    "\n",
    "try:\n",
    "    j = json.loads(result)\n",
    "    print(j)\n",
    "except Exception as e:\n",
    "    print(e)\n",
    "    \n"
   ],
   "metadata": {
    "collapsed": false,
    "ExecuteTime": {
     "end_time": "2023-12-20T16:24:21.104310Z",
     "start_time": "2023-12-20T16:24:06.274455Z"
    }
   },
   "id": "981b8be8c0dadf64"
  },
  {
   "cell_type": "code",
   "execution_count": 38,
   "outputs": [
    {
     "name": "stdout",
     "output_type": "stream",
     "text": [
      "Processed document 1 of 50\n",
      "Processed document 2 of 50\n",
      "Processed document 3 of 50\n",
      "Processed document 4 of 50\n",
      "Processed document 5 of 50\n",
      "Processed document 6 of 50\n",
      "Processed document 7 of 50\n",
      "Processed document 8 of 50\n",
      "Processed document 9 of 50\n",
      "Processed document 10 of 50\n",
      "Processed document 11 of 50\n",
      "Processed document 12 of 50\n",
      "Processed document 13 of 50\n",
      "Processed document 14 of 50\n",
      "Processed document 15 of 50\n",
      "Processed document 16 of 50\n",
      "Processed document 17 of 50\n",
      "Processed document 18 of 50\n",
      "Processed document 19 of 50\n",
      "Processed document 20 of 50\n",
      "Processed document 21 of 50\n",
      "Processed document 22 of 50\n",
      "Expecting value: line 3 column 1 (char 2)\n",
      "Failed to process document 23 of 50\n",
      "Processed document 24 of 50\n",
      "Processed document 25 of 50\n",
      "Processed document 26 of 50\n",
      "Processed document 27 of 50\n",
      "Processed document 28 of 50\n",
      "Processed document 29 of 50\n",
      "Processed document 30 of 50\n",
      "Processed document 31 of 50\n",
      "Processed document 32 of 50\n",
      "Processed document 33 of 50\n",
      "Processed document 34 of 50\n",
      "Processed document 35 of 50\n",
      "Processed document 36 of 50\n",
      "Processed document 37 of 50\n",
      "Processed document 38 of 50\n",
      "Processed document 39 of 50\n",
      "Processed document 40 of 50\n",
      "Processed document 41 of 50\n",
      "Invalid \\escape: line 20 column 46 (char 655)\n",
      "Failed to process document 42 of 50\n",
      "Invalid \\escape: line 20 column 46 (char 680)\n",
      "Failed to process document 43 of 50\n",
      "Processed document 44 of 50\n",
      "Processed document 45 of 50\n",
      "Processed document 46 of 50\n",
      "Processed document 47 of 50\n",
      "Processed document 48 of 50\n",
      "Processed document 49 of 50\n",
      "Processed document 50 of 50\n",
      "Time elapsed: 551.4461050033569 seconds\n"
     ]
    }
   ],
   "source": [
    "import json\n",
    "import pandas\n",
    "import time\n",
    "\n",
    "# measure time\n",
    "start = time.time()\n",
    "\n",
    "# Initialize an empty list to store the results\n",
    "results = []\n",
    "\n",
    "# Loop over the first max documents\n",
    "max = 50\n",
    "for i, document in enumerate(documents[:max]):\n",
    "    try:\n",
    "        # Extract data from the document\n",
    "        result = extract_data(llm, document)\n",
    "        # Append the result to the list\n",
    "        results.append(json.loads(result))\n",
    "        print(f\"Processed document {i+1} of {max}\")\n",
    "    except Exception as e:\n",
    "        print(e)\n",
    "        print(f\"Failed to process document {i+1} of {max}\")\n",
    "    \n",
    "# Convert the list of dictionaries to a DataFrame\n",
    "df = pandas.DataFrame(results)\n",
    "\n",
    "# Export the DataFrame to a CSV file\n",
    "df.to_csv(\"invoices.csv\", index=False)\n",
    "\n",
    "# measure time\n",
    "end = time.time()\n",
    "print(f\"Time elapsed: {end - start} seconds\")\n",
    "\n"
   ],
   "metadata": {
    "collapsed": false,
    "ExecuteTime": {
     "end_time": "2023-12-20T16:05:25.796888Z",
     "start_time": "2023-12-20T15:56:14.345200Z"
    }
   },
   "id": "fdf9645b23734c2b"
  },
  {
   "cell_type": "code",
   "execution_count": null,
   "outputs": [],
   "source": [],
   "metadata": {
    "collapsed": false
   },
   "id": "e75dc1d1899d928f"
  }
 ],
 "metadata": {
  "kernelspec": {
   "display_name": "Python 3",
   "language": "python",
   "name": "python3"
  },
  "language_info": {
   "codemirror_mode": {
    "name": "ipython",
    "version": 2
   },
   "file_extension": ".py",
   "mimetype": "text/x-python",
   "name": "python",
   "nbconvert_exporter": "python",
   "pygments_lexer": "ipython2",
   "version": "2.7.6"
  }
 },
 "nbformat": 4,
 "nbformat_minor": 5
}
