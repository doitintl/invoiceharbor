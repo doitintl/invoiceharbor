{
 "cells": [
  {
   "cell_type": "markdown",
   "source": [
    "# Playground for invoice processing with OpenAI API"
   ],
   "metadata": {
    "collapsed": false
   },
   "id": "a2c74f97d95499de"
  },
  {
   "cell_type": "markdown",
   "source": [
    "### Define AWS invoice and credit record model"
   ],
   "metadata": {
    "collapsed": false
   },
   "id": "3fbfc5f572e8cdea"
  },
  {
   "cell_type": "code",
   "outputs": [],
   "source": [
    "from pydantic import BaseModel, Field\n",
    "\n",
    "# Define a new Pydantic model with field descriptions and tailored for AWS Invoice/Credit Record.\n",
    "class AwsInvoiceCredit(BaseModel):\n",
    "    file_name: str = Field(description=\"AWS Invoice PDF file name.\")\n",
    "    doit_payer_id: str = Field(description=\"Doit Payer ID. Can be extracted from the parent folder name.\")\n",
    "    aws_account_number: str = Field(description=\"AWS Account number.\")\n",
    "    address_company: str = Field(description=\"Address or Bill to Address company name. Use first line of the address. Usually, it is the company name.\")\n",
    "    address_attn: str = Field(description=\"Address or Bill to Address ATTN. Use second line of the address. Usually, it is the name of the person.\")\n",
    "    address_country: str = Field(description=\"Bill to address country. Use last line of the address. Usually, it is the country name. Convert short country code to a full country name.\")\n",
    "    document_type: str = Field(description=\"Document Type. Can be Invoice or Credit Note. Credit Note can be Credit Memo or Credit Adjustment Note.\")\n",
    "    billing_period: str = Field(description=\"Billing Period; Two dates separated by a dash; leave empty if not present\")\n",
    "    tax_registration_number: str = Field(default=None, description=\"Tax Registration Number; ABN Number; GST/HST Registration number; leave empty if not present\")\n",
    "    invoice_number: str = Field(description=\"Invoice Number from the Invoice Summary\")\n",
    "    invoice_date: str = Field(default=None, description=\"Invoice Date from the Invoice Summary\")\n",
    "    original_invoice_number: str = Field(default=None, description=\"Original Invoice Number from the Invoice Summary of Credit Memo/Note; leave empty if not present\")\n",
    "    original_invoice_date: str = Field(default=None, description=\"Original Invoice Date from the Invoice Adjustment Summary of Credit Memo/Note; leave empty if not present\")\n",
    "    total_amount: float = Field(description=\"Total Amount from the Invoice Summary; without currency; add minus sign if parentheses around or has a minus prefix\")\n",
    "    total_amount_currency: str = Field(description=\"Total Amount Currency from the Invoice Summary; use currency code instead of symbol\")\n",
    "    total_vat_tax_amount: float = Field(default=None, description=\"Total VAT/Tax Amount from the Invoice Summary; without currency; add minus sign if parentheses around or has a minus prefix\")\n",
    "    total_vat_tax_currency: str = Field(default=None, description=\"VAT/Tax Currency from the Invoice Summary; use currency code instead of symbol\")\n",
    "    vat_percentage: float = Field(default=None, description=\"VAT Percentage from the Invoice Summary Table; VAT - <number>%; GST amount at <number>%; HST Amount at <number>%; leave empty if not present\")\n",
    "    exchange_rate: float = Field(default=None, description=\"Exchange Rate from the Invoice Summary Table (1 USD = ?); leave empty if not found\")"
   ],
   "metadata": {
    "collapsed": false
   },
   "id": "e0853b598ffe5aec",
   "execution_count": null
  },
  {
   "cell_type": "markdown",
   "source": [
    "### Define the OpenAI model"
   ],
   "metadata": {
    "collapsed": false
   },
   "id": "2d1b3f0674d29c20"
  },
  {
   "cell_type": "code",
   "execution_count": null,
   "outputs": [],
   "source": [
    "import os\n",
    "from langchain.chat_models import ChatOpenAI\n",
    "\n",
    "llm = ChatOpenAI(\n",
    "    model=\"gpt-4-1106-preview\",\n",
    "    openai_api_key=os.getenv(\"OPENAI_API_KEY\"),\n",
    "    temperature=0.0,\n",
    "    max_tokens=4096,\n",
    ")"
   ],
   "metadata": {
    "collapsed": false
   },
   "id": "398fd70e0d677f1f"
  },
  {
   "cell_type": "code",
   "execution_count": null,
   "outputs": [],
   "source": [
    "def remove_footer(text):\n",
    "    # remove everything after one of the following lines (including the line itself)\n",
    "    lines = [\n",
    "        \"* May include estimated US sales tax, VAT, ST, GST and CT.\",\n",
    "        \"Amazon Web Services EMEA SARL\",\n",
    "        \"Amazon Web Services Australia Pty Ltd\",\n",
    "        \"AMAZON WEB SERVICES EMEA SARL\",\n",
    "        \"Amazon Web Services Canada, Inc.\",\n",
    "        \"Amazon Web Services EMEA SARL, Luxembourg, Zweigniederlassung Zürich\",\n",
    "    ]\n",
    "    for line in lines:\n",
    "        if line in text:\n",
    "            return text.split(line)[0]\n",
    "    return text"
   ],
   "metadata": {
    "collapsed": false
   },
   "id": "400b04f485187cbe"
  },
  {
   "cell_type": "code",
   "execution_count": null,
   "outputs": [],
   "source": [
    "import os\n",
    "from langchain.document_loaders import PyMuPDFLoader\n",
    "\n",
    "# scan all documents in the folder (recursively)\n",
    "def scan_folder(folder):\n",
    "    documents = []\n",
    "    for root, dirs, files in os.walk(folder):\n",
    "        for file in files:\n",
    "            if file.endswith(\".pdf\"):\n",
    "                loader = PyMuPDFLoader(os.path.join(root, file))\n",
    "                data = loader.load()\n",
    "                invoice = remove_footer(data[0].page_content)\n",
    "                # get parent folder name\n",
    "                parent_folder = os.path.basename(os.path.dirname(os.path.join(root, file)))\n",
    "                # extract doit payer id from the parent folder name\n",
    "                payer_id = parent_folder.split(\"_\")[1]\n",
    "                # add file name to the invoice\n",
    "                invoice = f\"File name: {file}\\nDoiT payer id: {payer_id}\\n\" + invoice\n",
    "                documents.append(invoice)\n",
    "    return documents\n",
    "\n",
    "all_documents = scan_folder(\"./data/12-2023\")\n",
    "print(f\"Found {len(all_documents)} documents\")"
   ],
   "metadata": {
    "collapsed": false
   },
   "id": "7b40949817b79d55"
  },
  {
   "cell_type": "code",
   "outputs": [],
   "source": [
    "import asyncio\n",
    "from langchain.chains import LLMChain\n",
    "from langchain.output_parsers import PydanticOutputParser\n",
    "from langchain.prompts import PromptTemplate\n",
    "import textwrap\n",
    "\n",
    "# Instantiate the parser with the new model.\n",
    "parser = PydanticOutputParser(pydantic_object=AwsInvoiceCredit)\n",
    "\n",
    "# Instantiate the semaphore to limit the number of concurrent requests.\n",
    "# Approximate number of tokens per request is 1000-1500, so 50 requests will be 75k tokens\n",
    "# a single request takes 10 seconds, so 30 concurrent requests can lead to 180 requests per minute\n",
    "# 180 * 1500 = 270k tokens per minute (TPM) should be within the 600k TPM limit\n",
    "sem = asyncio.Semaphore(50)\n",
    "\n",
    "async def extract_data(model, document):\n",
    "    async with sem:\n",
    "        # Update the prompt to match the new query and desired format.\n",
    "        try:\n",
    "            # get file name from the document: first line\n",
    "            file_name = document.split(\"\\n\")[0]\n",
    "            # trim \"File name: \" from the file name\n",
    "            file_name = file_name.removeprefix(\"File name: \")\n",
    "            print(f\"Processing file {file_name}\")\n",
    "            \n",
    "            prompt = PromptTemplate(\n",
    "                template=textwrap.dedent(\n",
    "                    \"\"\"\n",
    "                    Extract data from the AWS Invoice or Credit document into a flat JSON object.\n",
    "                    {format_instructions}\n",
    "                    {request}\n",
    "                    <document>\n",
    "                    {invoice}\n",
    "                    <document>\n",
    "                    JSON:\n",
    "                    \"\"\"\n",
    "                ),\n",
    "                input_variables=[\"request\", \"invoice\"],\n",
    "                partial_variables={\n",
    "                    \"format_instructions\": parser.get_format_instructions(),\n",
    "                },\n",
    "            )\n",
    "            # Generate the input using the updated prompt.\n",
    "            parsing_request = textwrap.dedent(\n",
    "                \"\"\"\n",
    "                Return the extracted fields in the valid JSON format: only JSON objects and arrays are allowed without any comments or other text. \n",
    "                Keep it as simple as possible and ensure the JSON is valid. \n",
    "                Skip the fields that are not present in the invoice.\n",
    "                Be careful with the currency symbols, which are not always in the invoice.\n",
    "                Try to extract the fields even if the invoice format differs and the fields are not in the same order. \n",
    "                My job depends on it! And I will be very grateful to you! Will pay you an extra 1000$ if you do it without errors!\n",
    "                \"\"\"\n",
    "            )\n",
    "            chain = LLMChain(llm=model, prompt=prompt)\n",
    "            output = await chain.arun(request=parsing_request, invoice=document)\n",
    "            # remove everything before the first { and after the last }\n",
    "            output = output[output.find(\"{\"):output.rfind(\"}\")+1]\n",
    "            parsed = parser.parse(output)\n",
    "            print(f\"File {file_name} processed successfully\")\n",
    "            return parsed\n",
    "        except Exception as e:\n",
    "            print(f\"An error occurred: {e} processing file {file_name}\")\n",
    "            return None"
   ],
   "metadata": {
    "collapsed": false
   },
   "id": "d621692a5131827",
   "execution_count": null
  },
  {
   "cell_type": "code",
   "execution_count": null,
   "outputs": [],
   "source": [
    "import asyncio\n",
    "import pandas\n",
    "import time\n",
    "\n",
    "# measure time\n",
    "start = time.time()\n",
    "\n",
    "# Initialize an empty list to store the results\n",
    "results = []\n",
    "\n",
    "# Loop over the first max documents\n",
    "max_docs = len(all_documents)\n",
    "tasks = []\n",
    "for i, doc in enumerate(all_documents[:max_docs]):\n",
    "    # Extract data from the document (async)\n",
    "    tasks.append(extract_data(llm, doc))\n",
    "\n",
    "# measure time\n",
    "start = time.time()\n",
    "   \n",
    "# wait for all tasks to complete\n",
    "results = await asyncio.gather(*tasks, return_exceptions=True)\n",
    "# handle exceptions and collect results\n",
    "data = []\n",
    "for i, result in enumerate(results):\n",
    "    if isinstance(result, Exception):\n",
    "        print(result)\n",
    "        print(f\"Failed to process document {i+1} of {max_docs}\")\n",
    "        results.remove(result)\n",
    "    else:\n",
    "        data.append(result.model_dump())\n",
    "    \n",
    "# Convert the list of dictionaries to a DataFrame\n",
    "df = pandas.DataFrame.from_dict(data)\n",
    "\n",
    "# Export the DataFrame to a CSV file\n",
    "df.to_csv(\"invoices.csv\", index=False)\n",
    "\n",
    "# measure time\n",
    "end = time.time()\n",
    "print(f\"Time elapsed: {end - start} seconds\")"
   ],
   "metadata": {
    "collapsed": false
   },
   "id": "fdf9645b23734c2b"
  },
  {
   "cell_type": "code",
   "outputs": [],
   "source": [],
   "metadata": {
    "collapsed": false
   },
   "id": "b280c014877462da"
  }
 ],
 "metadata": {
  "kernelspec": {
   "display_name": "Python 3",
   "language": "python",
   "name": "python3"
  },
  "language_info": {
   "codemirror_mode": {
    "name": "ipython",
    "version": 2
   },
   "file_extension": ".py",
   "mimetype": "text/x-python",
   "name": "python",
   "nbconvert_exporter": "python",
   "pygments_lexer": "ipython2",
   "version": "2.7.6"
  }
 },
 "nbformat": 4,
 "nbformat_minor": 5
}
